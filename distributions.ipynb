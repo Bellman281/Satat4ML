{
  "nbformat": 4,
  "nbformat_minor": 0,
  "metadata": {
    "colab": {
      "name": "distributions.ipynb",
      "provenance": [],
      "collapsed_sections": []
    },
    "kernelspec": {
      "name": "python3",
      "display_name": "Python 3"
    },
    "language_info": {
      "name": "python"
    }
  },
  "cells": [
    {
      "cell_type": "code",
      "execution_count": null,
      "metadata": {
        "id": "fi-OWo3m-4o8"
      },
      "outputs": [],
      "source": [
        "import numpy as np\n",
        "from numpy import random\n",
        "import matplotlib.pyplot as plt\n",
        "import seaborn as sns\n",
        "import scipy"
      ]
    },
    {
      "cell_type": "markdown",
      "source": [
        "## Normal Distribution\n",
        "#### $ f(x|\\mu,\\sigma^2)=\\frac{1}{\\sigma\\sqrt{2\\pi}}exp[-\\frac{(x-\\mu)^2}{2\\sigma^2}]$\n",
        "\n",
        "$\\mu=0\\quad\\sigma=0.1$"
      ],
      "metadata": {
        "id": "1xLK38J6ls_Z"
      }
    },
    {
      "cell_type": "code",
      "source": [
        "mu, sigma = 0, 0.1 # mean and standard deviation\n",
        "s = np.random.normal(mu, sigma, 10000)\n",
        "count, bins, ignored = plt.hist(s, 1000, density=True)\n",
        "plt.plot(bins, 1/(sigma * np.sqrt(2 * np.pi)) *\n",
        "                np.exp( - (bins - mu)**2 / (2 * sigma**2) ),\n",
        "          linewidth=2, color='r')\n",
        "plt.show()"
      ],
      "metadata": {
        "colab": {
          "base_uri": "https://localhost:8080/",
          "height": 265
        },
        "id": "UwPkkUXblNdw",
        "outputId": "f4e8c8ef-1c04-44b2-b3a0-e3faffbb6aa3"
      },
      "execution_count": null,
      "outputs": [
        {
          "output_type": "display_data",
          "data": {
            "image/png": "[encoded data removed]",
            "text/plain": [
              "<Figure size 432x288 with 1 Axes>"
            ]
          },
          "metadata": {
            "needs_background": "light"
          }
        }
      ]
    },
    {
      "cell_type": "markdown",
      "source": [
        "##Binomial Disrtibution\n",
        "$P(Y=y|n,p)=\\binom{n}{y}p^y(1-p)^{n-y},\\hspace{0.5cm}y=0,1,...,n.$\n",
        "\n",
        "$n = 100\\quad p=6\\%$"
      ],
      "metadata": {
        "id": "iIkdBmZ0mERc"
      }
    },
    {
      "cell_type": "code",
      "source": [
        "n, p = 100, 0.6 # n, probability for binomial\n",
        "s = np.random.binomial(n, p, size=100)\n",
        "count, bins, ignored = plt.hist(s, 100, density=True)\n",
        "plt.show()"
      ],
      "metadata": {
        "colab": {
          "base_uri": "https://localhost:8080/",
          "height": 265
        },
        "id": "nins0-dE_1SK",
        "outputId": "06a43db0-74e0-4caf-c24e-a8e54903a64c"
      },
      "execution_count": null,
      "outputs": [
        {
          "output_type": "display_data",
          "data": {
            "image/png": "[encoded data removed]",
            "text/plain": [
              "<Figure size 432x288 with 1 Axes>"
            ]
          },
          "metadata": {
            "needs_background": "light"
          }
        }
      ]
    },
    {
      "cell_type": "markdown",
      "source": [
        "##Poisson Disrtibution\n",
        "$P(X = x |\\lambda) =\\frac{e^{-\\lambda} \\lambda^{x}} {x!},\\quad x=0,1,...$\n",
        "\n",
        "$\\lambda=3$"
      ],
      "metadata": {
        "id": "jsUf0A03BiUO"
      }
    },
    {
      "cell_type": "code",
      "source": [
        "lambda_=3\n",
        "sns.histplot (random.poisson(lam=lambda_, size=1000), kde=True,stat=\"density\")\n",
        "\n",
        "plt.show()"
      ],
      "metadata": {
        "colab": {
          "base_uri": "https://localhost:8080/",
          "height": 265
        },
        "id": "m4_39lgbBFnr",
        "outputId": "d25cdd67-ba06-465c-ab05-925189f572d8"
      },
      "execution_count": null,
      "outputs": [
        {
          "output_type": "display_data",
          "data": {
            "image/png": "[encoded data removed]",
            "text/plain": [
              "<Figure size 432x288 with 1 Axes>"
            ]
          },
          "metadata": {
            "needs_background": "light"
          }
        }
      ]
    },
    {
      "cell_type": "markdown",
      "source": [
        "###  Continous Uniform Distribution\n",
        "$f(x|a,b)=\n",
        "        \\begin{cases}\n",
        "                 \\frac{1}{b-a} &\\quad\\text{if}\\hspace{0.25cm}x\\in[a,b] \\\\\n",
        "                \\\\ 0 &\\quad\\text{if}\\hspace{0.25cm}\\textrm{otherwise} \\\\ \n",
        "        \\end{cases}.\n",
        "$\n",
        "\n",
        "\n",
        "$a=5\\quad b=20\\quad N=4000$"
      ],
      "metadata": {
        "id": "fk3_JfS8B5mO"
      }
    },
    {
      "cell_type": "code",
      "source": [
        "from scipy.stats import uniform\n",
        "a=5\n",
        "b=20\n",
        "size=4000\n",
        "\n",
        "x = np.linspace(a, b, size)\n",
        "continuous_uniform_distribution = uniform(loc=a, scale=b)\n",
        "continuous_uniform_pdf = continuous_uniform_distribution.pdf(x)\n",
        "\n",
        "plt.plot(x, continuous_uniform_pdf)\n",
        "plt.xlabel('X')\n",
        "plt.ylabel('Probability')\n",
        "plt.show()"
      ],
      "metadata": {
        "colab": {
          "base_uri": "https://localhost:8080/",
          "height": 279
        },
        "id": "Zu0bRAINBKfa",
        "outputId": "3be0c754-210f-42d8-c03a-65ab5541452c"
      },
      "execution_count": null,
      "outputs": [
        {
          "output_type": "display_data",
          "data": {
            "image/png": "[encoded data removed]",
            "text/plain": [
              "<Figure size 432x288 with 1 Axes>"
            ]
          },
          "metadata": {
            "needs_background": "light"
          }
        }
      ]
    },
    {
      "cell_type": "markdown",
      "source": [
        "###Exponential Distribution\n",
        "$f(x|\\beta)=\\frac{1}{\\beta}e^{-x/\\beta},\\hspace{0.5cm}0<x<\\infty.$\n",
        "\n",
        "$\\beta\\text{, scale parameter,}=5$"
      ],
      "metadata": {
        "id": "MOJLgLarCaLs"
      }
    },
    {
      "cell_type": "code",
      "source": [
        "sns.histplot(random.exponential(scale=5, size=1000000),stat=\"density\")\n",
        "\n",
        "plt.show()"
      ],
      "metadata": {
        "colab": {
          "base_uri": "https://localhost:8080/",
          "height": 265
        },
        "id": "nI2_C5-ABlYN",
        "outputId": "317dc7f5-56fb-413f-eef1-b0af1ffe514b"
      },
      "execution_count": null,
      "outputs": [
        {
          "output_type": "display_data",
          "data": {
            "image/png": "[encoded data removed]",
            "text/plain": [
              "<Figure size 432x288 with 1 Axes>"
            ]
          },
          "metadata": {
            "needs_background": "light"
          }
        }
      ]
    },
    {
      "cell_type": "markdown",
      "source": [
        "###Laplace Distribution\n",
        "$f(x|\\mu,b)=\\frac{1}{2b}exp(-\\frac{|x-\\mu|}{b})$\n",
        "\n",
        "$b=5\\quad\\mu=2$"
      ],
      "metadata": {
        "id": "ogFw4iL3EZ4T"
      }
    },
    {
      "cell_type": "code",
      "source": [
        "from scipy.stats import laplace\n",
        "\n",
        "b = 5\n",
        "mu = 2\n",
        "fig, ax = plt.subplots(1, 1)\n",
        "\n",
        "x = np.linspace(laplace.ppf(0.01),\n",
        "                laplace.ppf(0.99), 100)\n",
        "ax.plot(x, laplace.pdf(x, mu, b),\n",
        "       'k-', lw=2, alpha=0.6, label='laplace pdf')"
      ],
      "metadata": {
        "colab": {
          "base_uri": "https://localhost:8080/",
          "height": 283
        },
        "id": "27ZK5LMxEApC",
        "outputId": "6a98ba9e-5a39-498c-fac9-e8082ba21edc"
      },
      "execution_count": null,
      "outputs": [
        {
          "output_type": "execute_result",
          "data": {
            "text/plain": [
              "[<matplotlib.lines.Line2D at 0x7f8110fd4210>]"
            ]
          },
          "metadata": {},
          "execution_count": 16
        },
        {
          "output_type": "display_data",
          "data": {
            "image/png": "[encoded data removed]",
            "text/plain": [
              "<Figure size 432x288 with 1 Axes>"
            ]
          },
          "metadata": {
            "needs_background": "light"
          }
        }
      ]
    },
    {
      "cell_type": "markdown",
      "source": [
        "###Beta Distribution\n",
        "\n",
        "$f(x;\\alpha,\\beta)= \\frac{1}{B(\\alpha,\\beta)}x^{\\alpha-1}(1-x)^{\\beta-1}$\n",
        "\n",
        "$\\alpha=2\\quad\\beta=5$"
      ],
      "metadata": {
        "id": "jUk5Ps-PJOLb"
      }
    },
    {
      "cell_type": "code",
      "source": [
        "from scipy.stats import beta\n",
        "a, b = 2, 5\n",
        "\n",
        "fig, ax = plt.subplots(1, 1)\n",
        "\n",
        "x = np.linspace(beta.ppf(0.01, a, b),\n",
        "                beta.ppf(0.99, a, b), 100)\n",
        "ax.plot(x, beta.pdf(x, a, b),\n",
        "       'k-', lw=2, alpha=0.6, label='beta pdf')\n"
      ],
      "metadata": {
        "colab": {
          "base_uri": "https://localhost:8080/",
          "height": 283
        },
        "id": "_S9obOdFGMcs",
        "outputId": "7059dd04-d324-4bac-b96b-732cf3b4715c"
      },
      "execution_count": null,
      "outputs": [
        {
          "output_type": "execute_result",
          "data": {
            "text/plain": [
              "[<matplotlib.lines.Line2D at 0x7f59f58338d0>]"
            ]
          },
          "metadata": {},
          "execution_count": 47
        },
        {
          "output_type": "display_data",
          "data": {
            "image/png": "[encoded data removed]",
            "text/plain": [
              "<Figure size 432x288 with 1 Axes>"
            ]
          },
          "metadata": {
            "needs_background": "light"
          }
        }
      ]
    },
    {
      "cell_type": "markdown",
      "source": [
        "###Lognormal Distribution\n",
        "\n",
        "$f(x|\\mu,\\sigma^2)=\\frac{1}{\\sqrt{2\\pi\\sigma^2}}\\frac{1}{x}exp[-\\frac{(\\log{x}-\\mu)^2}{2\\sigma^2}],\\quad 0<x<\\infty$\n",
        "\n",
        "$\\sigma = 0.8\\quad\\mu=0.5$"
      ],
      "metadata": {
        "id": "VHj4Dj2BJlkK"
      }
    },
    {
      "cell_type": "code",
      "source": [
        "from scipy.stats import lognorm\n",
        "s = 0.8\n",
        "mu = 0.5\n",
        "fig, ax = plt.subplots(1, 1)\n",
        "\n",
        "x = np.linspace(lognorm.ppf(0.01, s),\n",
        "                lognorm.ppf(0.99, s), 100)\n",
        "ax.plot(x, lognorm.pdf(x, s, mu),\n",
        "       'k-', lw=2, alpha=0.6, label='lognorm pdf')"
      ],
      "metadata": {
        "colab": {
          "base_uri": "https://localhost:8080/",
          "height": 283
        },
        "id": "M76nulpUHUZB",
        "outputId": "cbab6fb4-1d93-4c54-a32f-4e0e67688c8a"
      },
      "execution_count": null,
      "outputs": [
        {
          "output_type": "execute_result",
          "data": {
            "text/plain": [
              "[<matplotlib.lines.Line2D at 0x7f810e8991d0>]"
            ]
          },
          "metadata": {},
          "execution_count": 22
        },
        {
          "output_type": "display_data",
          "data": {
            "image/png": "[encoded data removed]",
            "text/plain": [
              "<Figure size 432x288 with 1 Axes>"
            ]
          },
          "metadata": {
            "needs_background": "light"
          }
        }
      ]
    },
    {
      "cell_type": "markdown",
      "source": [
        "## posisson calculator example\n",
        "\n",
        "$P(X = x |\\lambda) =\\frac{e^{-\\lambda} \\lambda^{x}} {x!}, x=0,1,...$\n",
        "\n",
        "A call center receives 12 calls per hour. Use Poisson distribution to find the\n",
        "probability that a call center receives 2, 4, 6, 8 . . . calls in a given hour\n",
        "\n",
        "$\\mu = 12\\quad\\lambda=2, 4, 6, 8$"
      ],
      "metadata": {
        "id": "NTZcnNEMui9y"
      }
    },
    {
      "cell_type": "markdown",
      "source": [
        "In the cell below, we're gonna calculate the written values"
      ],
      "metadata": {
        "id": "Pw_fcwmoO0no"
      }
    },
    {
      "cell_type": "markdown",
      "source": [
        "$P(X= 2$ calls$) = 0.00044$\n",
        "\n",
        "$P(X= 4$ calls$) = 0.00531$\n",
        "\n",
        "$P(X= 6$ calls$) = 0.02548$\n",
        "\n",
        "$P(X= 8$ calls$) = 0.06552$"
      ],
      "metadata": {
        "id": "dOAi5zzgupgx"
      }
    },
    {
      "cell_type": "code",
      "source": [
        "import scipy\n",
        "## mu is the same as lambda in slides and k is the same as X in above forlula \n",
        "X2=scipy.stats.distributions.poisson.pmf(k=2, mu=12)\n",
        "X4=scipy.stats.distributions.poisson.pmf(k=4, mu=12)\n",
        "X6=scipy.stats.distributions.poisson.pmf(k=6, mu=12)\n",
        "X8=scipy.stats.distributions.poisson.pmf(k=8, mu=12)\n",
        "print('P(X = 2 calls)=', X2)\n",
        "print('P(X = 4 calls)=', X4)\n",
        "print('P(X = 6 calls)=', X6)\n",
        "print('P(X = 8 calls)=', X8)"
      ],
      "metadata": {
        "colab": {
          "base_uri": "https://localhost:8080/"
        },
        "id": "sjkQRIwIuqXs",
        "outputId": "06417bb4-847d-4ecc-e9ea-382399478aec"
      },
      "execution_count": null,
      "outputs": [
        {
          "output_type": "stream",
          "name": "stdout",
          "text": [
            "P(X = 2 calls)= 0.0004423832894396311\n",
            "P(X = 4 calls)= 0.005308599473275576\n",
            "P(X = 6 calls)= 0.025481277471722776\n",
            "P(X = 8 calls)= 0.06552328492728705\n"
          ]
        }
      ]
    },
    {
      "cell_type": "code",
      "source": [
        ""
      ],
      "metadata": {
        "id": "EymMxb61vY5P"
      },
      "execution_count": null,
      "outputs": []
    }
  ]
}